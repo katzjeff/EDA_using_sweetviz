{
  "nbformat": 4,
  "nbformat_minor": 0,
  "metadata": {
    "colab": {
      "name": "GOT3.ipynb",
      "provenance": [],
      "authorship_tag": "ABX9TyPXpFI5s9ZsTKlCMTAYqtxp",
      "include_colab_link": true
    },
    "kernelspec": {
      "name": "python3",
      "display_name": "Python 3"
    }
  },
  "cells": [
    {
      "cell_type": "markdown",
      "metadata": {
        "id": "view-in-github",
        "colab_type": "text"
      },
      "source": [
        "<a href=\"https://colab.research.google.com/github/katzjeff/EDA_using_sweetviz/blob/master/GOT3.ipynb\" target=\"_parent\"><img src=\"https://colab.research.google.com/assets/colab-badge.svg\" alt=\"Open In Colab\"/></a>"
      ]
    },
    {
      "cell_type": "code",
      "metadata": {
        "id": "M5wgQPYKisBg",
        "colab_type": "code",
        "colab": {}
      },
      "source": [
        "pip install GetOldTweets3"
      ],
      "execution_count": null,
      "outputs": []
    },
    {
      "cell_type": "code",
      "metadata": {
        "id": "2-S-U0N0njHA",
        "colab_type": "code",
        "colab": {}
      },
      "source": [
        "import pandas as pd\n",
        "import GetOldTweets3 as got\n",
        "import csv\n",
        "\n",
        "username = \"MOH_Kenya\"\n",
        "text_query = \"COVID-19 UPDATE\"\n",
        "start = \"2020-03-01\"\n",
        "stop =\"2020-08-27\"\n",
        "count = 1000\n",
        "#creation of query object\n",
        "tweetCriteria = got.manager.TweetCriteria().setUsername(username).setQuerySearch(text_query).setSince(start).setUntil(stop).setMaxTweets(count)\n",
        "#Creation of list that contains all tweets\n",
        "tweets = got.manager.TweetManager.getTweets(tweetCriteria)\n",
        "#Creating a list of the choosen tweets above\n",
        "user_tweets = [[tweet.date, tweet.text, tweet.retweets] for tweet in tweets]\n",
        "#Creation of a dataframe for the list formed\n",
        "tweets_df = pd.DataFrame(user_tweets)\n",
        "#Writing and creating a csv file for the dataframe\n",
        "tweets_df.to_csv(r'mohtweets4.csv' , header=True)\n",
        "#tweets_df.shape\n",
        "#print(tweets_df)"
      ],
      "execution_count": 3,
      "outputs": []
    }
  ]
}